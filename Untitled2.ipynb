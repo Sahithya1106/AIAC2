{
  "nbformat": 4,
  "nbformat_minor": 0,
  "metadata": {
    "colab": {
      "provenance": [],
      "authorship_tag": "ABX9TyPicx5vEDpHAexOsow9qXS3",
      "include_colab_link": true
    },
    "kernelspec": {
      "name": "python3",
      "display_name": "Python 3"
    },
    "language_info": {
      "name": "python"
    }
  },
  "cells": [
    {
      "cell_type": "markdown",
      "metadata": {
        "id": "view-in-github",
        "colab_type": "text"
      },
      "source": [
        "<a href=\"https://colab.research.google.com/github/Sahithya1106/AIAC2/blob/main/Untitled2.ipynb\" target=\"_parent\"><img src=\"https://colab.research.google.com/assets/colab-badge.svg\" alt=\"Open In Colab\"/></a>"
      ]
    },
    {
      "cell_type": "code",
      "execution_count": null,
      "metadata": {
        "id": "dBCjfnWsa-18"
      },
      "outputs": [],
      "source": [
        "Prompt AI to write a function that checks whether a given year is a leap\n",
        "year."
      ]
    },
    {
      "cell_type": "code",
      "metadata": {
        "colab": {
          "base_uri": "https://localhost:8080/"
        },
        "id": "9f455d26",
        "outputId": "3c17532e-5f1a-4b8a-c259-83a4eabaf195"
      },
      "source": [
        "def is_leap(year):\n",
        "  \"\"\"\n",
        "  Checks if a given year is a leap year.\n",
        "\n",
        "  Args:\n",
        "    year: An integer representing the year.\n",
        "\n",
        "  Returns:\n",
        "    True if the year is a leap year, False otherwise.\n",
        "  \"\"\"\n",
        "  return (year % 4 == 0 and year % 100 != 0) or (year % 400 == 0)\n",
        "\n",
        "# Example usage:\n",
        "print(f\"2000 is a leap year: {is_leap(2000)}\")\n",
        "print(f\"1900 is a leap year: {is_leap(1900)}\")\n",
        "print(f\"2024 is a leap year: {is_leap(2024)}\")"
      ],
      "execution_count": null,
      "outputs": [
        {
          "output_type": "stream",
          "name": "stdout",
          "text": [
            "2000 is a leap year: True\n",
            "1900 is a leap year: False\n",
            "2024 is a leap year: True\n"
          ]
        }
      ]
    },
    {
      "cell_type": "markdown",
      "metadata": {
        "id": "e33a5f5f"
      },
      "source": [
        "**Explanation of the `is_leap` function:**\n",
        "\n",
        "This function takes an integer `year` as input and returns `True` if it's a leap year, and `False` otherwise. It follows the rules for determining a leap year:\n",
        "\n",
        "*   A year is a leap year if it is divisible by 4.\n",
        "*   However, if the year is divisible by 100, it is NOT a leap year unless...\n",
        "*   ...it is also divisible by 400.\n",
        "\n",
        "The code translates these rules into a boolean expression:\n",
        "\n",
        "*   `(year % 4 == 0 and year % 100 != 0)`: This checks if the year is divisible by 4 but not by 100.\n",
        "*   `(year % 400 == 0)`: This checks if the year is divisible by 400.\n",
        "\n",
        "The `or` operator combines these two conditions. If either condition is true, the function returns `True`, indicating it's a leap year. Otherwise, it returns `False`."
      ]
    }
  ]
}