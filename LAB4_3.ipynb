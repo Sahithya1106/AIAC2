{
  "nbformat": 4,
  "nbformat_minor": 0,
  "metadata": {
    "colab": {
      "provenance": [],
      "authorship_tag": "ABX9TyMd0cudtMkux8m4ls3pH1DS",
      "include_colab_link": true
    },
    "kernelspec": {
      "name": "python3",
      "display_name": "Python 3"
    },
    "language_info": {
      "name": "python"
    }
  },
  "cells": [
    {
      "cell_type": "markdown",
      "metadata": {
        "id": "view-in-github",
        "colab_type": "text"
      },
      "source": [
        "<a href=\"https://colab.research.google.com/github/Sahithya1106/AIAC2/blob/main/LAB4_3.ipynb\" target=\"_parent\"><img src=\"https://colab.research.google.com/assets/colab-badge.svg\" alt=\"Open In Colab\"/></a>"
      ]
    },
    {
      "cell_type": "code",
      "execution_count": null,
      "metadata": {
        "id": "dBCjfnWsa-18"
      },
      "outputs": [],
      "source": [
        "Zero Shot:Prompt AI to write a function that checks whether a given year is a leap\n",
        "year."
      ]
    },
    {
      "cell_type": "code",
      "metadata": {
        "colab": {
          "base_uri": "https://localhost:8080/"
        },
        "id": "9f455d26",
        "outputId": "3c17532e-5f1a-4b8a-c259-83a4eabaf195"
      },
      "source": [
        "def is_leap(year):\n",
        "  \"\"\"\n",
        "  Checks if a given year is a leap year.\n",
        "\n",
        "  Args:\n",
        "    year: An integer representing the year.\n",
        "\n",
        "  Returns:\n",
        "    True if the year is a leap year, False otherwise.\n",
        "  \"\"\"\n",
        "  return (year % 4 == 0 and year % 100 != 0) or (year % 400 == 0)\n",
        "\n",
        "# Example usage:\n",
        "print(f\"2000 is a leap year: {is_leap(2000)}\")\n",
        "print(f\"1900 is a leap year: {is_leap(1900)}\")\n",
        "print(f\"2024 is a leap year: {is_leap(2024)}\")"
      ],
      "execution_count": null,
      "outputs": [
        {
          "output_type": "stream",
          "name": "stdout",
          "text": [
            "2000 is a leap year: True\n",
            "1900 is a leap year: False\n",
            "2024 is a leap year: True\n"
          ]
        }
      ]
    },
    {
      "cell_type": "markdown",
      "metadata": {
        "id": "e33a5f5f"
      },
      "source": [
        "**Explanation of the `is_leap` function:**\n",
        "\n",
        "This function takes an integer `year` as input and returns `True` if it's a leap year, and `False` otherwise. It follows the rules for determining a leap year:\n",
        "\n",
        "*   A year is a leap year if it is divisible by 4.\n",
        "*   However, if the year is divisible by 100, it is NOT a leap year unless...\n",
        "*   ...it is also divisible by 400.\n",
        "\n",
        "The code translates these rules into a boolean expression:\n",
        "\n",
        "*   `(year % 4 == 0 and year % 100 != 0)`: This checks if the year is divisible by 4 but not by 100.\n",
        "*   `(year % 400 == 0)`: This checks if the year is divisible by 400.\n",
        "\n",
        "The `or` operator combines these two conditions. If either condition is true, the function returns `True`, indicating it's a leap year. Otherwise, it returns `False`."
      ]
    },
    {
      "cell_type": "code",
      "source": [
        "One-shot: Give one input-output example to guide AI in writing a function that\n",
        "converts centimeters to inches, give the code and explain it"
      ],
      "metadata": {
        "id": "eJ0j_VI_n-YU"
      },
      "execution_count": null,
      "outputs": []
    },
    {
      "cell_type": "code",
      "metadata": {
        "colab": {
          "base_uri": "https://localhost:8080/"
        },
        "id": "6d86a4b2",
        "outputId": "a5012070-8094-4c8d-da90-3e96cbca04cb"
      },
      "source": [
        "# One-shot example: 10 centimeters is equal to 3.94 inches (approximately)\n",
        "\n",
        "def centimeters_to_inches(cm):\n",
        "  \"\"\"Converts a measurement in centimeters to inches.\"\"\"\n",
        "  return cm * 0.393701\n",
        "\n",
        "# Example usage:\n",
        "centimeters = 25\n",
        "inches = centimeters_to_inches(centimeters)\n",
        "print(f\"{centimeters} centimeters is equal to {inches:.2f} inches\")"
      ],
      "execution_count": 7,
      "outputs": [
        {
          "output_type": "stream",
          "name": "stdout",
          "text": [
            "25 centimeters is equal to 9.84 inches\n"
          ]
        }
      ]
    },
    {
      "cell_type": "markdown",
      "metadata": {
        "id": "25a0aea9"
      },
      "source": [
        "**One-shot Example, Code, and Explanation:**\n",
        "\n",
        "This response provides a one-shot example, the Python code for a function, and an explanation for converting centimeters to inches.\n",
        "\n",
        "*   **One-shot Example:** The comment `# One-shot example: 10 centimeters is equal to 3.94 inches (approximately)` serves as a single input-output example to guide an AI in understanding the conversion.\n",
        "*   **Code:** The `centimeters_to_inches(cm)` function takes a value in centimeters (`cm`) and multiplies it by the conversion factor `0.393701` to return the equivalent value in inches.\n",
        "*   **Explanation:** The code then demonstrates how to use the function with an example value of 25 centimeters, printing the result formatted to two decimal places. The conversion factor 0.393701 is used because 1 inch is approximately equal to 2.54 centimeters, and therefore 1 centimeter is approximately 1/2.54 inches, which is about 0.393701."
      ]
    },
    {
      "cell_type": "code",
      "source": [
        "Few-shot: Provide 2–3 examples to generate a function that formats full names as\n",
        "“Last, First”, give the code and explain it"
      ],
      "metadata": {
        "id": "7ZRXQFP8ojL4"
      },
      "execution_count": null,
      "outputs": []
    },
    {
      "cell_type": "code",
      "metadata": {
        "id": "0dcdf194"
      },
      "source": [
        "# Input: \"John Doe\"\n",
        "# Output: \"Doe, John\"\n",
        "\n",
        "# Input: \"Jane Smith\"\n",
        "# Output: \"Smith, Jane\"\n",
        "\n",
        "# Input: \"Peter Jones\"\n",
        "# Output: \"Jones, Peter\""
      ],
      "execution_count": 8,
      "outputs": []
    },
    {
      "cell_type": "code",
      "metadata": {
        "colab": {
          "base_uri": "https://localhost:8080/"
        },
        "id": "ebaff644",
        "outputId": "f235fb4e-5c54-4587-f643-c5ee5f316852"
      },
      "source": [
        "def format_name_few_shot(full_name):\n",
        "  \"\"\"\n",
        "  Formats a full name as \"Last, First\".\n",
        "\n",
        "  Args:\n",
        "    full_name: A string containing the full name (e.g., \"John Doe\").\n",
        "\n",
        "  Returns:\n",
        "    A string with the name formatted as \"Last, First\".\n",
        "  \"\"\"\n",
        "  name_parts = full_name.split()\n",
        "  if len(name_parts) >= 2:\n",
        "    return f\"{name_parts[-1]}, {' '.join(name_parts[:-1])}\"\n",
        "  else:\n",
        "    return full_name # Return original name if not enough parts\n",
        "\n",
        "# Example usage with provided examples:\n",
        "print(f\"'John Doe' formatted: {format_name_few_shot('John Doe')}\")\n",
        "print(f\"'Jane Smith' formatted: {format_name_few_shot('Jane Smith')}\")\n",
        "print(f\"'Peter Jones' formatted: {format_name_few_shot('Peter Jones')}\")\n",
        "print(f\"'SingleName' formatted: {format_name_few_shot('SingleName')}\")"
      ],
      "execution_count": 9,
      "outputs": [
        {
          "output_type": "stream",
          "name": "stdout",
          "text": [
            "'John Doe' formatted: Doe, John\n",
            "'Jane Smith' formatted: Smith, Jane\n",
            "'Peter Jones' formatted: Jones, Peter\n",
            "'SingleName' formatted: SingleName\n"
          ]
        }
      ]
    },
    {
      "cell_type": "markdown",
      "metadata": {
        "id": "27758f30"
      },
      "source": [
        "**Few-shot Examples, Code, and Explanation:**\n",
        "\n",
        "This response provides few-shot examples, the Python code for a function, and an explanation for formatting full names as \"Last, First\".\n",
        "\n",
        "*   **Few-shot Examples:** The first code cell provides three input-output examples (`\"John Doe\"` -> `\"Doe, John\"`, `\"Jane Smith\"` -> `\"Smith, Jane\"`, `\"Peter Jones\"` -> `\"Jones, Peter\"`) to demonstrate the desired formatting.\n",
        "*   **Code:** The `format_name_few_shot(full_name)` function takes a full name as input. It splits the name into parts using spaces. If there are at least two parts, it takes the last part as the last name and joins the remaining parts as the first name(s), returning the formatted string \"Last, First\". If there are fewer than two parts, it returns the original name.\n",
        "*   **Explanation:** The explanation describes how the function works, including splitting the name and handling cases with more than one first name or only a single name. The example usage in the code cell demonstrates the function with the provided few-shot examples and an additional case with a single name."
      ]
    },
    {
      "cell_type": "code",
      "source": [
        "Compare zero-shot and few-shot prompts for writing a function that counts the\n",
        "number of vowels in a string, give the code and explain it"
      ],
      "metadata": {
        "id": "bzvGfiuko7xf"
      },
      "execution_count": null,
      "outputs": []
    },
    {
      "cell_type": "code",
      "metadata": {
        "colab": {
          "base_uri": "https://localhost:8080/"
        },
        "id": "2a82dfeb",
        "outputId": "be2f4d7e-9226-4b40-fbba-5249994b6497"
      },
      "source": [
        "def count_vowels(text):\n",
        "  \"\"\"\n",
        "  Counts the number of vowels in a given string.\n",
        "\n",
        "  Args:\n",
        "    text: The input string.\n",
        "\n",
        "  Returns:\n",
        "    The number of vowels in the string.\n",
        "  \"\"\"\n",
        "  vowels = \"aeiouAEIOU\"\n",
        "  vowel_count = 0\n",
        "  for char in text:\n",
        "    if char in vowels:\n",
        "      vowel_count += 1\n",
        "  return vowel_count\n",
        "\n",
        "# Example usage:\n",
        "print(f\"Number of vowels in 'Hello World': {count_vowels('Hello World')}\")\n",
        "print(f\"Number of vowels in 'Python Programming': {count_vowels('Python Programming')}\")"
      ],
      "execution_count": 10,
      "outputs": [
        {
          "output_type": "stream",
          "name": "stdout",
          "text": [
            "Number of vowels in 'Hello World': 3\n",
            "Number of vowels in 'Python Programming': 4\n"
          ]
        }
      ]
    },
    {
      "cell_type": "markdown",
      "metadata": {
        "id": "bdedeaf2"
      },
      "source": [
        "**Comparison of Zero-shot and Few-shot Prompting for Vowel Counting, Code, and Explanation:**\n",
        "\n",
        "This response provides the code for a function to count vowels and discusses how zero-shot and few-shot prompting could be used to generate such a function.\n",
        "\n",
        "**Zero-shot Prompting:**\n",
        "\n",
        "With a zero-shot prompt, you would simply ask the AI to \"Write a Python function that counts the number of vowels in a string.\" The AI would rely solely on its pre-training to understand the request and generate the code. For a relatively straightforward task like counting vowels, a well-trained AI should be able to produce a correct function without any examples.\n",
        "\n",
        "**Few-shot Prompting:**\n",
        "\n",
        "With few-shot prompting, you would provide the AI with a few examples of input strings and the expected vowel count. For example:\n",
        "\n",
        "*   Input: \"hello\", Output: 2\n",
        "*   Input: \"world\", Output: 1\n",
        "*   Input: \"Python\", Output: 1\n",
        "\n",
        "You would then ask the AI to \"Write a Python function that counts vowels, following these examples.\" Providing examples can be helpful for more complex tasks or when you want the AI to adhere to a specific style or format. For vowel counting, it reinforces the definition of what constitutes a vowel and the expected output format.\n",
        "\n",
        "**Code Explanation:**\n",
        "\n",
        "The provided Python code defines a function `count_vowels(text)`:\n",
        "\n",
        "1.  `vowels = \"aeiouAEIOU\"`: This line creates a string containing all lowercase and uppercase vowels.\n",
        "2.  `vowel_count = 0`: This line initializes a counter variable to zero.\n",
        "3.  `for char in text:`: This loop iterates through each character in the input `text` string.\n",
        "4.  `if char in vowels:`: Inside the loop, this condition checks if the current character `char` is present in the `vowels` string.\n",
        "5.  `vowel_count += 1`: If the character is a vowel, the `vowel_count` is incremented by 1.\n",
        "6.  `return vowel_count`: After iterating through all characters, the function returns the final `vowel_count`.\n",
        "\n",
        "The example usage demonstrates calling the function with different strings and printing the results."
      ]
    },
    {
      "cell_type": "code",
      "source": [
        "Use few-shot prompting to generate a function that reads a .txt file and returns the\n",
        "number of lines, give the code and explain it"
      ],
      "metadata": {
        "id": "0yekccMjpOIi"
      },
      "execution_count": null,
      "outputs": []
    },
    {
      "cell_type": "code",
      "metadata": {
        "id": "855bbc93"
      },
      "source": [
        "# Example 1:\n",
        "# Content of 'example1.txt':\n",
        "# Line 1\n",
        "# Line 2\n",
        "# Output: 2\n",
        "\n",
        "# Example 2:\n",
        "# Content of 'example2.txt':\n",
        "# Single line\n",
        "# Output: 1\n",
        "\n",
        "# Example 3:\n",
        "# Content of 'example3.txt':\n",
        "# (empty file)\n",
        "# Output: 0"
      ],
      "execution_count": 11,
      "outputs": []
    },
    {
      "cell_type": "code",
      "metadata": {
        "id": "6f5021b5"
      },
      "source": [
        "import os\n",
        "\n",
        "def count_lines_few_shot(filename):\n",
        "  \"\"\"\n",
        "  Reads a text file and returns the number of lines.\n",
        "\n",
        "  Args:\n",
        "    filename: The path to the text file.\n",
        "\n",
        "  Returns:\n",
        "    The number of lines in the file, or -1 if the file does not exist.\n",
        "  \"\"\"\n",
        "  if not os.path.exists(filename):\n",
        "    print(f\"Error: File '{filename}' not found.\")\n",
        "    return -1\n",
        "\n",
        "  try:\n",
        "    with open(filename, 'r') as f:\n",
        "      line_count = sum(1 for line in f)\n",
        "    return line_count\n",
        "  except Exception as e:\n",
        "    print(f\"An error occurred while reading the file: {e}\")\n",
        "    return -1\n",
        "\n",
        "# To test this function, you would need to create the example files first.\n",
        "# Example usage (assuming example files exist):\n",
        "# print(f\"Lines in 'example1.txt': {count_lines_few_shot('example1.txt')}\")\n",
        "# print(f\"Lines in 'example2.txt': {count_lines_few_shot('example2.txt')}\")\n",
        "# print(f\"Lines in 'example3.txt': {count_lines_few_shot('example3.txt')}\")\n",
        "# print(f\"Lines in 'non_existent_file.txt': {count_lines_few_shot('non_existent_file.txt')}\")"
      ],
      "execution_count": 12,
      "outputs": []
    },
    {
      "cell_type": "markdown",
      "metadata": {
        "id": "5952ea93"
      },
      "source": [
        "**Few-shot Examples, Code, and Explanation for Counting Lines in a File:**\n",
        "\n",
        "This response provides few-shot examples, the Python code for a function, and an explanation for counting the number of lines in a text file.\n",
        "\n",
        "*   **Few-shot Examples:** The first code cell provides three examples illustrating the expected input (the content of a text file) and the desired output (the number of lines). This helps guide the AI in understanding the task.\n",
        "*   **Code:** The `count_lines_few_shot(filename)` function takes a filename as input.\n",
        "    *   It first checks if the file exists using `os.path.exists()`. If not, it prints an error and returns -1.\n",
        "    *   If the file exists, it opens the file in read mode (`'r'`) using a `with` statement, which ensures the file is automatically closed.\n",
        "    *   `sum(1 for line in f)` is a concise way to iterate through each line in the file object `f` and count them.\n",
        "    *   The function returns the `line_count`.\n",
        "    *   A `try...except` block is included to catch any potential errors during file reading.\n",
        "*   **Explanation:** The explanation describes the purpose of the function, how it handles file existence and reading, and how it counts the lines. It also mentions that you would need to create the example files to test the function and includes commented-out example usage."
      ]
    }
  ]
}